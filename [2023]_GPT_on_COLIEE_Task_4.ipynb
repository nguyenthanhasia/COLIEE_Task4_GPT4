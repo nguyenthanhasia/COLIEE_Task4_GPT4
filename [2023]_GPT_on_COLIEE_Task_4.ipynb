{
  "nbformat": 4,
  "nbformat_minor": 0,
  "metadata": {
    "colab": {
      "provenance": []
    },
    "kernelspec": {
      "name": "python3",
      "display_name": "Python 3"
    },
    "language_info": {
      "name": "python"
    }
  },
  "cells": [
    {
      "cell_type": "code",
      "source": [
        "!pip install openai -q"
      ],
      "metadata": {
        "id": "cm8A3ds9r1FO"
      },
      "execution_count": null,
      "outputs": []
    },
    {
      "cell_type": "code",
      "source": [
        "import openai\n",
        "openai.api_key = \"YOUR_API_KEY\""
      ],
      "metadata": {
        "id": "auxti4iRewZK"
      },
      "execution_count": null,
      "outputs": []
    },
    {
      "cell_type": "code",
      "source": [
        "import xml.etree.ElementTree as ET\n",
        "\n",
        "def read_xml_to_list_of_dicts(file_name):\n",
        "    tree = ET.parse(file_name)\n",
        "    root = tree.getroot()\n",
        "\n",
        "    data = []\n",
        "\n",
        "    for pair in root.findall('pair'):\n",
        "        pair_data = {}\n",
        "        pair_data['id'] = pair.get('id')\n",
        "\n",
        "        t1 = pair.find('t1')\n",
        "        if t1 is not None:\n",
        "            pair_data['t1'] = t1.text.strip()\n",
        "\n",
        "        t2 = pair.find('t2')\n",
        "        if t2 is not None:\n",
        "            pair_data['t2'] = t2.text.strip()\n",
        "\n",
        "        data.append(pair_data)\n",
        "\n",
        "    return data\n",
        "\n",
        "file_name = \"TestData_en.xml\"\n",
        "data_list = read_xml_to_list_of_dicts(file_name)\n",
        "print(data_list)"
      ],
      "metadata": {
        "id": "Lupw_HwjeyOI"
      },
      "execution_count": null,
      "outputs": []
    },
    {
      "cell_type": "code",
      "source": [
        "from tqdm import tqdm\n",
        "def ask_gpt4(question, context):\n",
        "    prompt = f\"{context}\\n\\nQuestion: {question}\\nAnswer (Y or N), no explan:\"\n",
        "    while True:\n",
        "      try:\n",
        "        response=openai.ChatCompletion.create(\n",
        "            model=\"gpt-4-0314\", \n",
        "            n=1,\n",
        "            messages=[\n",
        "                  {\"role\": \"user\", \"content\":prompt}\n",
        "            ]\n",
        "        )\n",
        "        break\n",
        "      except Exception as e:\n",
        "        print(f\"Error when calling API: {e}\")\n",
        "\n",
        "    answer = response.choices[0].message.content\n",
        "    return answer\n",
        "\n",
        "output_file = \"GPT-4_output.txt\"\n",
        "\n",
        "with open(output_file, \"w\") as f:\n",
        "    for pair in tqdm(data_list):\n",
        "        t1 = pair['t1']\n",
        "        t2 = pair['t2']\n",
        "        id_ = pair['id']\n",
        "\n",
        "        answer = ask_gpt4(t2, t1)\n",
        "        f.write(f\"{id_} {answer} GPT4\\n\")"
      ],
      "metadata": {
        "id": "KgjajYtTe4y2"
      },
      "execution_count": null,
      "outputs": []
    }
  ]
}